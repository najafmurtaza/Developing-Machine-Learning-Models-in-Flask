{
 "cells": [
  {
   "cell_type": "code",
   "execution_count": null,
   "metadata": {},
   "outputs": [],
   "source": [
    "system_ip = ''"
   ]
  },
  {
   "cell_type": "code",
   "execution_count": null,
   "metadata": {},
   "outputs": [],
   "source": [
    "import pandas as pd\n",
    "import requests, json\n",
    "\n",
    "df = pd.read_pickle(PATH_to_DATA)"
   ]
  },
  {
   "cell_type": "code",
   "execution_count": null,
   "metadata": {},
   "outputs": [],
   "source": [
    "data = df.head(50) # Subsampling data for faster testing"
   ]
  },
  {
   "cell_type": "code",
   "execution_count": null,
   "metadata": {},
   "outputs": [],
   "source": [
    "data['text'] = data[TEXT_COL].copy()\n",
    "data['id'] = data[ID_COL].copy()\n",
    "data['label'] = data[LABEL_COL].copy()"
   ]
  },
  {
   "cell_type": "markdown",
   "metadata": {},
   "source": [
    "# Fast Text"
   ]
  },
  {
   "cell_type": "code",
   "execution_count": null,
   "metadata": {},
   "outputs": [],
   "source": [
    "import pandas as pd\n",
    "import numpy as np\n",
    "import requests, json\n",
    "import time\n",
    "\n",
    "print(data.shape)\n",
    "\n",
    "clf_params = {'lr':0.1, 'epoch':200, 'word_ngrams':2, 'bucket':200000, 'dim':300, 'loss':'softmax'}\n",
    "\n",
    "# params = {'train_data': data[['text','label','id']].to_dict(),\n",
    "#           'test_data': data[['text','label','id']].to_dict(),\n",
    "#          'model_name':'wawa'}\n",
    "\n",
    "ml_flow_params = {'experiment_name':'Auto Fast Text', \n",
    "                  'run_name':'wvfrtteeee', \n",
    "                  'description':\"This is wvfrtteeee test\"}\n",
    "params = {'train_data': data[['text','label','id']].to_dict(),\n",
    "          'test_data': data[['text','label','id']].to_dict(),\n",
    "         'model_name':'ml_flow_test',\n",
    "         'ml_flow_params':ml_flow_params}\n",
    "\n",
    "r = requests.post('http://{system_ip}:7655/fasttext/', json=params)\n",
    "res = json.loads(r.text)\n",
    "df_res, acc, report, report_txt, conf_mat = res['df_res'], res['acc'], res['report'], res['report_txt'], res['conf_mat']\n",
    "df_res = pd.DataFrame(df_res)\n",
    "report = pd.DataFrame(report)\n",
    "conf_mat = pd.DataFrame(conf_mat)\n",
    "print(res.keys())"
   ]
  },
  {
   "cell_type": "code",
   "execution_count": null,
   "metadata": {},
   "outputs": [],
   "source": [
    "r = requests.post('http://{system_ip}:7655/fasttext/mlflow', json=params)\n",
    "res = json.loads(r.text)\n",
    "res"
   ]
  },
  {
   "cell_type": "code",
   "execution_count": null,
   "metadata": {},
   "outputs": [],
   "source": [
    "params = {'train_data': data[['text','label','id']].to_dict(),\n",
    "          'test_data': data[['text','label','id']].to_dict(),\n",
    "         'model_name':'wawa'}"
   ]
  },
  {
   "cell_type": "code",
   "execution_count": null,
   "metadata": {},
   "outputs": [],
   "source": [
    "r = requests.post('http://{system_ip}:7655/fasttext/test', json=params)\n",
    "res = json.loads(r.text)\n",
    "print(res.keys())\n",
    "df_res, acc, report, report_txt, conf_mat = res['df_res'], res['acc'], res['report'], res['report_txt'], res['conf_mat']\n",
    "df_res = pd.DataFrame(df_res)\n",
    "report = pd.DataFrame(report)\n",
    "conf_mat = pd.DataFrame(conf_mat)"
   ]
  },
  {
   "cell_type": "code",
   "execution_count": null,
   "metadata": {},
   "outputs": [],
   "source": [
    "r = requests.post('http://{system_ip}:7655/fasttext/delete', json=params)\n",
    "res = json.loads(r.text)\n",
    "res"
   ]
  },
  {
   "cell_type": "markdown",
   "metadata": {},
   "source": [
    "# Watson"
   ]
  },
  {
   "cell_type": "code",
   "execution_count": null,
   "metadata": {},
   "outputs": [],
   "source": [
    "# params = {'train_data': data[['text','label','id']].to_dict(),\n",
    "#           'test_data': data[['text','label','id']].to_dict(),\n",
    "#          'model_name':'my-classifier-I',\n",
    "#          'api_key':Your_Watson_NLC_API_KEY}\n",
    "\n",
    "ml_flow_params = {'experiment_name':'Auto Watson', \n",
    "                  'run_name':'Watson testing 4', \n",
    "                  'description':\"This is watson V4 test\"}\n",
    "params = {'train_data': data[['text','label','id']].to_dict(),\n",
    "          'test_data': data[['text','label','id']].to_dict(),\n",
    "         'model_name':'my-classifier-I',\n",
    "         'api_key':Your_Watson_NLC_API_KEY,\n",
    "         'ml_flow_params':ml_flow_params}"
   ]
  },
  {
   "cell_type": "code",
   "execution_count": null,
   "metadata": {},
   "outputs": [],
   "source": [
    "r = requests.post('http://{system_ip}:7656/watson/', json=params)\n",
    "res = json.loads(r.text)\n",
    "print(res)"
   ]
  },
  {
   "cell_type": "code",
   "execution_count": null,
   "metadata": {},
   "outputs": [],
   "source": [
    "r = requests.post('http://{system_ip}:7656/watson/mlflow', json=params)\n",
    "res = json.loads(r.text)\n",
    "res"
   ]
  },
  {
   "cell_type": "code",
   "execution_count": null,
   "metadata": {},
   "outputs": [],
   "source": [
    "r = requests.post('http://{system_ip}:7656/watson/test', json=params)\n",
    "res = json.loads(r.text)\n",
    "print(res.keys())\n",
    "df_res, acc, report, report_txt, conf_mat = res['df_res'], res['acc'], res['report'], res['report_txt'], res['conf_mat']\n",
    "df_res = pd.DataFrame(df_res)\n",
    "report = pd.DataFrame(report)\n",
    "conf_mat = pd.DataFrame(conf_mat)"
   ]
  },
  {
   "cell_type": "code",
   "execution_count": null,
   "metadata": {},
   "outputs": [],
   "source": [
    "params = {'model_name':'my-classifier-I',\n",
    "          'delete_files':True}\n",
    "          \n",
    "r = requests.post('http://{system_ip}:7656/watson/results', json=params)\n",
    "res = json.loads(r.text)\n",
    "print(res.keys())\n",
    "df_res, acc, report, report_txt, conf_mat = res['df_res'], res['acc'], res['report'], res['report_txt'], res['conf_mat']\n",
    "df_res = pd.DataFrame(df_res)\n",
    "report = pd.DataFrame(report)\n",
    "conf_mat = pd.DataFrame(conf_mat)\n",
    "res.keys()"
   ]
  },
  {
   "cell_type": "markdown",
   "metadata": {},
   "source": [
    "# hDBScan"
   ]
  },
  {
   "cell_type": "code",
   "execution_count": null,
   "metadata": {},
   "outputs": [],
   "source": [
    "import pandas as pd\n",
    "import requests, json\n",
    "\n",
    "df = pd.read_pickle(PATH_tO_DATA)\n",
    "df['text'] = df[TEXT_COL].copy()\n",
    "df['id'] = df[ID_COL].copy()\n",
    "df['emb'] = df[EMB_COL].apply(lambda x: x.tolist())\n",
    "\n",
    "data = df.head(50)"
   ]
  },
  {
   "cell_type": "code",
   "execution_count": null,
   "metadata": {},
   "outputs": [],
   "source": [
    "# params = {'train_data': data[['text','emb','id']].to_dict(),\n",
    "#           'test_data': data[['text','emb','id']].to_dict()}\n",
    "params = {'train_data': data[['emb','id']].to_dict()}"
   ]
  },
  {
   "cell_type": "code",
   "execution_count": null,
   "metadata": {},
   "outputs": [],
   "source": [
    "r = requests.post('http://{system_ip}:7657/hdbscan/', json=params)\n",
    "res = json.loads(r.text)\n",
    "res.keys()"
   ]
  },
  {
   "cell_type": "code",
   "execution_count": null,
   "metadata": {},
   "outputs": [],
   "source": [
    "df_res = res['df_res']\n",
    "df_res = pd.DataFrame(df_res)\n",
    "df_res"
   ]
  },
  {
   "cell_type": "code",
   "execution_count": null,
   "metadata": {},
   "outputs": [],
   "source": []
  }
 ],
 "metadata": {
  "kernelspec": {
   "display_name": "Python 3",
   "language": "python",
   "name": "python3"
  },
  "language_info": {
   "codemirror_mode": {
    "name": "ipython",
    "version": 3
   },
   "file_extension": ".py",
   "mimetype": "text/x-python",
   "name": "python",
   "nbconvert_exporter": "python",
   "pygments_lexer": "ipython3",
   "version": "3.7.4"
  }
 },
 "nbformat": 4,
 "nbformat_minor": 2
}
